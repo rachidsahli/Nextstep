{
 "cells": [
  {
   "cell_type": "markdown",
   "id": "92fdb885-d981-4dcd-877f-8d7d6dbc949b",
   "metadata": {},
   "source": [
    "## Introduction\n",
    "Ce notebook à pour objectif d'explorer la base de données Open Food Facts.\n",
    "La base est très volumineuse, elle a été téléchargé au format parquet à partir du site opendata.gouv."
   ]
  }
 ],
 "metadata": {
  "kernelspec": {
   "display_name": "Python 3 (ipykernel)",
   "language": "python",
   "name": "python3"
  },
  "language_info": {
   "codemirror_mode": {
    "name": "ipython",
    "version": 3
   },
   "file_extension": ".py",
   "mimetype": "text/x-python",
   "name": "python",
   "nbconvert_exporter": "python",
   "pygments_lexer": "ipython3",
   "version": "3.12.7"
  }
 },
 "nbformat": 4,
 "nbformat_minor": 5
}
